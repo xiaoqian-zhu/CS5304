{
 "cells": [
  {
   "cell_type": "code",
   "execution_count": 36,
   "metadata": {},
   "outputs": [],
   "source": [
    "import pandas as pd\n",
    "train=pd.read_csv('train.csv').dropna()\n",
    "test=pd.read_csv('test.csv').dropna()"
   ]
  },
  {
   "cell_type": "code",
   "execution_count": 2,
   "metadata": {},
   "outputs": [
    {
     "data": {
      "text/plain": [
       "153"
      ]
     },
     "execution_count": 2,
     "metadata": {},
     "output_type": "execute_result"
    }
   ],
   "source": [
    "from nltk.corpus import stopwords"
   ]
  },
  {
   "cell_type": "code",
   "execution_count": 3,
   "metadata": {},
   "outputs": [],
   "source": [
    "import re"
   ]
  },
  {
   "cell_type": "code",
   "execution_count": 8,
   "metadata": {},
   "outputs": [],
   "source": [
    "def naiveScore(pds):    \n",
    "    a=set(re.sub(\"[^\\w]\",\" \",pds.question1).lower().split())\n",
    "    b=set(re.sub(\"[^\\w]\",\" \",pds.question2).lower().split())\n",
    "    score=len(a^b)#/len(a|b)\n",
    "    return score"
   ]
  },
  {
   "cell_type": "code",
   "execution_count": null,
   "metadata": {},
   "outputs": [],
   "source": [
    "def naiveScore2(pds):    \n",
    "    a=set(re.sub(\"[^\\w]\",\" \",pds.question1).lower().split())\n",
    "    b=set(re.sub(\"[^\\w]\",\" \",pds.question2).lower().split())\n",
    "    score=len(a^b)/len(a|b)\n",
    "    return score"
   ]
  },
  {
   "cell_type": "code",
   "execution_count": 65,
   "metadata": {},
   "outputs": [],
   "source": [
    "def wordbagbuilder(pds):\n",
    "    a=set(pds.question1.replace('?','').split().lower())\n",
    "    b=set(pds.question2.replace('?','').split().lower())\n",
    "    ans=a^b\n",
    "    return ans"
   ]
  },
  {
   "cell_type": "code",
   "execution_count": 69,
   "metadata": {
    "scrolled": true
   },
   "outputs": [
    {
     "name": "stdout",
     "output_type": "stream",
     "text": [
      "0\n",
      "5000\n",
      "10000\n",
      "15000\n",
      "20000\n",
      "25000\n",
      "30000\n",
      "35000\n",
      "40000\n",
      "45000\n",
      "50000\n",
      "55000\n",
      "60000\n",
      "65000\n",
      "70000\n",
      "75000\n",
      "80000\n",
      "85000\n",
      "90000\n",
      "95000\n",
      "100000\n",
      "105000\n",
      "110000\n",
      "115000\n",
      "120000\n",
      "125000\n",
      "130000\n",
      "135000\n",
      "140000\n",
      "145000\n",
      "150000\n",
      "155000\n",
      "160000\n",
      "165000\n",
      "170000\n",
      "175000\n",
      "180000\n",
      "185000\n",
      "190000\n",
      "195000\n",
      "200000\n",
      "205000\n",
      "210000\n",
      "215000\n",
      "220000\n",
      "225000\n",
      "230000\n",
      "235000\n",
      "240000\n",
      "245000\n",
      "250000\n",
      "255000\n",
      "260000\n",
      "265000\n",
      "270000\n",
      "275000\n",
      "280000\n",
      "285000\n",
      "290000\n",
      "295000\n",
      "300000\n",
      "305000\n",
      "310000\n",
      "315000\n",
      "320000\n",
      "325000\n",
      "330000\n",
      "335000\n",
      "340000\n",
      "345000\n",
      "350000\n",
      "355000\n",
      "360000\n",
      "365000\n",
      "370000\n",
      "375000\n",
      "380000\n",
      "385000\n",
      "390000\n",
      "395000\n",
      "400000\n"
     ]
    }
   ],
   "source": [
    "pair_id=[]\n",
    "score=[]\n",
    "result=[]\n",
    "for i in range(len(train)):\n",
    "    score.append(naiveScore(train.iloc[i]))\n",
    "    result.append(train.iloc[i].is_duplicate)\n",
    "    pair_id.append(train.iloc[i].id)\n",
    "    if i%5000==0:\n",
    "        print (i)"
   ]
  },
  {
   "cell_type": "code",
   "execution_count": 44,
   "metadata": {
    "scrolled": true
   },
   "outputs": [
    {
     "name": "stdout",
     "output_type": "stream",
     "text": [
      "0\n",
      "5000\n",
      "10000\n",
      "15000\n",
      "20000\n",
      "25000\n",
      "30000\n",
      "35000\n",
      "40000\n",
      "45000\n",
      "50000\n",
      "55000\n",
      "60000\n",
      "65000\n",
      "70000\n",
      "75000\n",
      "80000\n",
      "85000\n",
      "90000\n",
      "95000\n",
      "100000\n",
      "105000\n",
      "110000\n",
      "115000\n",
      "120000\n",
      "125000\n",
      "130000\n",
      "135000\n",
      "140000\n",
      "145000\n",
      "150000\n",
      "155000\n",
      "160000\n",
      "165000\n",
      "170000\n",
      "175000\n",
      "180000\n",
      "185000\n",
      "190000\n",
      "195000\n",
      "200000\n",
      "205000\n",
      "210000\n",
      "215000\n",
      "220000\n",
      "225000\n",
      "230000\n",
      "235000\n",
      "240000\n",
      "245000\n",
      "250000\n",
      "255000\n",
      "260000\n",
      "265000\n",
      "270000\n",
      "275000\n",
      "280000\n",
      "285000\n",
      "290000\n",
      "295000\n",
      "300000\n",
      "305000\n",
      "310000\n",
      "315000\n",
      "320000\n",
      "325000\n",
      "330000\n",
      "335000\n",
      "340000\n",
      "345000\n",
      "350000\n",
      "355000\n",
      "360000\n",
      "365000\n",
      "370000\n",
      "375000\n",
      "380000\n",
      "385000\n",
      "390000\n",
      "395000\n",
      "400000\n",
      "405000\n",
      "410000\n",
      "415000\n",
      "420000\n",
      "425000\n",
      "430000\n",
      "435000\n",
      "440000\n",
      "445000\n",
      "450000\n",
      "455000\n",
      "460000\n",
      "465000\n",
      "470000\n",
      "475000\n",
      "480000\n",
      "485000\n",
      "490000\n",
      "495000\n",
      "500000\n",
      "505000\n",
      "510000\n",
      "515000\n",
      "520000\n",
      "525000\n",
      "530000\n",
      "535000\n",
      "540000\n",
      "545000\n",
      "550000\n",
      "555000\n",
      "560000\n",
      "565000\n",
      "570000\n",
      "575000\n",
      "580000\n",
      "585000\n",
      "590000\n",
      "595000\n",
      "600000\n",
      "605000\n",
      "610000\n",
      "615000\n",
      "620000\n",
      "625000\n",
      "630000\n",
      "635000\n",
      "640000\n",
      "645000\n",
      "650000\n",
      "655000\n",
      "660000\n",
      "665000\n",
      "670000\n",
      "675000\n",
      "680000\n",
      "685000\n",
      "690000\n",
      "695000\n",
      "700000\n",
      "705000\n",
      "710000\n",
      "715000\n",
      "720000\n",
      "725000\n",
      "730000\n",
      "735000\n",
      "740000\n",
      "745000\n",
      "750000\n",
      "755000\n",
      "760000\n",
      "765000\n",
      "770000\n",
      "775000\n",
      "780000\n",
      "785000\n",
      "790000\n",
      "795000\n",
      "800000\n",
      "805000\n",
      "810000\n",
      "815000\n",
      "820000\n",
      "825000\n",
      "830000\n",
      "835000\n",
      "840000\n",
      "845000\n",
      "850000\n",
      "855000\n",
      "860000\n",
      "865000\n",
      "870000\n",
      "875000\n",
      "880000\n",
      "885000\n",
      "890000\n",
      "895000\n",
      "900000\n",
      "905000\n",
      "910000\n",
      "915000\n",
      "920000\n",
      "925000\n",
      "930000\n",
      "935000\n",
      "940000\n",
      "945000\n",
      "950000\n",
      "955000\n",
      "960000\n",
      "965000\n",
      "970000\n",
      "975000\n",
      "980000\n",
      "985000\n",
      "990000\n",
      "995000\n",
      "1000000\n",
      "1005000\n",
      "1010000\n",
      "1015000\n",
      "1020000\n",
      "1025000\n",
      "1030000\n",
      "1035000\n",
      "1040000\n",
      "1045000\n",
      "1050000\n",
      "1055000\n",
      "1060000\n",
      "1065000\n",
      "1070000\n",
      "1075000\n",
      "1080000\n",
      "1085000\n",
      "1090000\n",
      "1095000\n",
      "1100000\n",
      "1105000\n",
      "1110000\n",
      "1115000\n",
      "1120000\n",
      "1125000\n",
      "1130000\n",
      "1135000\n",
      "1140000\n",
      "1145000\n",
      "1150000\n",
      "1155000\n",
      "1160000\n",
      "1165000\n",
      "1170000\n",
      "1175000\n",
      "1180000\n",
      "1185000\n",
      "1190000\n",
      "1195000\n",
      "1200000\n",
      "1205000\n",
      "1210000\n",
      "1215000\n",
      "1220000\n",
      "1225000\n",
      "1230000\n",
      "1235000\n",
      "1240000\n",
      "1245000\n",
      "1250000\n",
      "1255000\n",
      "1260000\n",
      "1265000\n",
      "1270000\n",
      "1275000\n",
      "1280000\n",
      "1285000\n",
      "1290000\n",
      "1295000\n",
      "1300000\n",
      "1305000\n",
      "1310000\n",
      "1315000\n",
      "1320000\n",
      "1325000\n",
      "1330000\n",
      "1335000\n",
      "1340000\n",
      "1345000\n",
      "1350000\n",
      "1355000\n",
      "1360000\n",
      "1365000\n",
      "1370000\n",
      "1375000\n",
      "1380000\n",
      "1385000\n",
      "1390000\n",
      "1395000\n",
      "1400000\n",
      "1405000\n",
      "1410000\n",
      "1415000\n",
      "1420000\n",
      "1425000\n",
      "1430000\n",
      "1435000\n",
      "1440000\n",
      "1445000\n",
      "1450000\n",
      "1455000\n",
      "1460000\n",
      "1465000\n",
      "1470000\n",
      "1475000\n",
      "1480000\n",
      "1485000\n",
      "1490000\n",
      "1495000\n",
      "1500000\n",
      "1505000\n",
      "1510000\n",
      "1515000\n",
      "1520000\n",
      "1525000\n",
      "1530000\n",
      "1535000\n",
      "1540000\n",
      "1545000\n",
      "1550000\n",
      "1555000\n",
      "1560000\n",
      "1565000\n",
      "1570000\n",
      "1575000\n",
      "1580000\n",
      "1585000\n",
      "1590000\n",
      "1595000\n",
      "1600000\n",
      "1605000\n",
      "1610000\n",
      "1615000\n",
      "1620000\n",
      "1625000\n",
      "1630000\n",
      "1635000\n",
      "1640000\n",
      "1645000\n",
      "1650000\n",
      "1655000\n",
      "1660000\n",
      "1665000\n",
      "1670000\n",
      "1675000\n",
      "1680000\n",
      "1685000\n",
      "1690000\n",
      "1695000\n",
      "1700000\n",
      "1705000\n",
      "1710000\n",
      "1715000\n",
      "1720000\n",
      "1725000\n",
      "1730000\n",
      "1735000\n",
      "1740000\n",
      "1745000\n",
      "1750000\n",
      "1755000\n",
      "1760000\n",
      "1765000\n",
      "1770000\n",
      "1775000\n",
      "1780000\n",
      "1785000\n",
      "1790000\n",
      "1795000\n",
      "1800000\n",
      "1805000\n",
      "1810000\n",
      "1815000\n",
      "1820000\n",
      "1825000\n",
      "1830000\n",
      "1835000\n",
      "1840000\n",
      "1845000\n",
      "1850000\n",
      "1855000\n",
      "1860000\n",
      "1865000\n",
      "1870000\n",
      "1875000\n",
      "1880000\n",
      "1885000\n",
      "1890000\n",
      "1895000\n",
      "1900000\n",
      "1905000\n",
      "1910000\n",
      "1915000\n",
      "1920000\n",
      "1925000\n",
      "1930000\n",
      "1935000\n",
      "1940000\n",
      "1945000\n",
      "1950000\n",
      "1955000\n",
      "1960000\n",
      "1965000\n",
      "1970000\n",
      "1975000\n",
      "1980000\n",
      "1985000\n",
      "1990000\n",
      "1995000\n",
      "2000000\n",
      "2005000\n",
      "2010000\n",
      "2015000\n",
      "2020000\n",
      "2025000\n",
      "2030000\n",
      "2035000\n",
      "2040000\n",
      "2045000\n",
      "2050000\n",
      "2055000\n",
      "2060000\n",
      "2065000\n",
      "2070000\n",
      "2075000\n",
      "2080000\n",
      "2085000\n",
      "2090000\n",
      "2095000\n",
      "2100000\n",
      "2105000\n",
      "2110000\n",
      "2115000\n",
      "2120000\n",
      "2125000\n",
      "2130000\n",
      "2135000\n",
      "2140000\n",
      "2145000\n",
      "2150000\n",
      "2155000\n",
      "2160000\n",
      "2165000\n",
      "2170000\n",
      "2175000\n",
      "2180000\n",
      "2185000\n",
      "2190000\n",
      "2195000\n",
      "2200000\n",
      "2205000\n",
      "2210000\n",
      "2215000\n",
      "2220000\n",
      "2225000\n",
      "2230000\n",
      "2235000\n",
      "2240000\n",
      "2245000\n",
      "2250000\n",
      "2255000\n",
      "2260000\n",
      "2265000\n",
      "2270000\n",
      "2275000\n",
      "2280000\n",
      "2285000\n",
      "2290000\n",
      "2295000\n",
      "2300000\n",
      "2305000\n",
      "2310000\n",
      "2315000\n",
      "2320000\n",
      "2325000\n",
      "2330000\n",
      "2335000\n",
      "2340000\n",
      "2345000\n"
     ]
    }
   ],
   "source": [
    "new_pair_id=[]\n",
    "new_score=[]\n",
    "\n",
    "for i in range(len(test)):\n",
    "    new_score.append(naiveScore(test.iloc[i]))\n",
    "    new_pair_id.append(test.iloc[i].test_id)\n",
    "    if i%5000==0:\n",
    "        print (i)"
   ]
  },
  {
   "cell_type": "code",
   "execution_count": 71,
   "metadata": {},
   "outputs": [],
   "source": [
    "import numpy as np\n",
    "import random as rd\n",
    "train_index=rd.sample(list(range(len(train))),int(len(train)*.90))\n",
    "valid=set(range(len(train)))-set(train_index)"
   ]
  },
  {
   "cell_type": "code",
   "execution_count": 62,
   "metadata": {},
   "outputs": [],
   "source": [
    "tmp=pd.DataFrame({'pair_id':pair_id,'score':score,'result':result})                                "
   ]
  },
  {
   "cell_type": "code",
   "execution_count": 63,
   "metadata": {},
   "outputs": [],
   "source": [
    "tmp.to_csv('naive.csv')"
   ]
  },
  {
   "cell_type": "code",
   "execution_count": 10,
   "metadata": {},
   "outputs": [],
   "source": [
    "from sklearn.linear_model import LogisticRegression as LogisticRegression"
   ]
  },
  {
   "cell_type": "code",
   "execution_count": 72,
   "metadata": {},
   "outputs": [],
   "source": [
    "lr=LogisticRegression()"
   ]
  },
  {
   "cell_type": "code",
   "execution_count": 73,
   "metadata": {},
   "outputs": [],
   "source": [
    "train_train=np.array(score)[train_index]"
   ]
  },
  {
   "cell_type": "code",
   "execution_count": 75,
   "metadata": {},
   "outputs": [
    {
     "data": {
      "text/plain": [
       "LogisticRegression(C=1.0, class_weight=None, dual=False, fit_intercept=True,\n",
       "          intercept_scaling=1, max_iter=100, multi_class='ovr', n_jobs=1,\n",
       "          penalty='l2', random_state=None, solver='liblinear', tol=0.0001,\n",
       "          verbose=0, warm_start=False)"
      ]
     },
     "execution_count": 75,
     "metadata": {},
     "output_type": "execute_result"
    }
   ],
   "source": [
    "lr.fit(np.array([train_train]).transpose(),np.array(result)[train_index])"
   ]
  },
  {
   "cell_type": "code",
   "execution_count": 84,
   "metadata": {},
   "outputs": [],
   "source": [
    "valid_set=np.array([np.array(score)[list(valid)]]).transpose()"
   ]
  },
  {
   "cell_type": "code",
   "execution_count": 85,
   "metadata": {},
   "outputs": [],
   "source": [
    "predicted=lr.predict(valid_set)"
   ]
  },
  {
   "cell_type": "code",
   "execution_count": 64,
   "metadata": {},
   "outputs": [],
   "source": [
    "tmp=pd.DataFrame({'is_duplicate':is_duplicate})   \n",
    "tmp.to_csv('base.csv',index_label='test_id')"
   ]
  },
  {
   "cell_type": "code",
   "execution_count": 46,
   "metadata": {},
   "outputs": [],
   "source": [
    "valid_set=np.array([np.array(new_score)]).transpose()"
   ]
  },
  {
   "cell_type": "code",
   "execution_count": 87,
   "metadata": {},
   "outputs": [
    {
     "data": {
      "text/plain": [
       "0.36127532216972963"
      ]
     },
     "execution_count": 87,
     "metadata": {},
     "output_type": "execute_result"
    }
   ],
   "source": [
    "abs(predicted-np.array(result)[list(valid)]).sum()/len(predicted)"
   ]
  },
  {
   "cell_type": "code",
   "execution_count": 82,
   "metadata": {},
   "outputs": [],
   "source": [
    "from sklearn.metrics import confusion_matrix as confusion_matrix"
   ]
  },
  {
   "cell_type": "code",
   "execution_count": 88,
   "metadata": {},
   "outputs": [
    {
     "data": {
      "text/plain": [
       "array([[19955,  5612],\n",
       "       [ 8994,  5868]], dtype=int64)"
      ]
     },
     "execution_count": 88,
     "metadata": {},
     "output_type": "execute_result"
    }
   ],
   "source": [
    "confusion_matrix(np.array(result)[list(valid)],predicted)"
   ]
  },
  {
   "cell_type": "code",
   "execution_count": 20,
   "metadata": {},
   "outputs": [
    {
     "data": {
      "text/plain": [
       "array([0, 0, 0, ..., 0, 0, 1], dtype=int64)"
      ]
     },
     "execution_count": 20,
     "metadata": {},
     "output_type": "execute_result"
    }
   ],
   "source": [
    "np.array(result)[list(valid)]"
   ]
  },
  {
   "cell_type": "code",
   "execution_count": 25,
   "metadata": {},
   "outputs": [
    {
     "data": {
      "text/plain": [
       "array([1, 0, 0, ..., 0, 0, 0], dtype=int64)"
      ]
     },
     "execution_count": 25,
     "metadata": {},
     "output_type": "execute_result"
    }
   ],
   "source": [
    "pre"
   ]
  },
  {
   "cell_type": "code",
   "execution_count": 27,
   "metadata": {},
   "outputs": [
    {
     "data": {
      "text/plain": [
       "12.494242045935982"
      ]
     },
     "execution_count": 27,
     "metadata": {},
     "output_type": "execute_result"
    }
   ],
   "source": [
    "from sklearn.metrics import log_loss\n",
    "log_loss(np.array(result)[list(valid)],pre)"
   ]
  },
  {
   "cell_type": "code",
   "execution_count": 77,
   "metadata": {},
   "outputs": [],
   "source": [
    "a=dict({'a':1})"
   ]
  },
  {
   "cell_type": "code",
   "execution_count": 79,
   "metadata": {},
   "outputs": [
    {
     "ename": "KeyError",
     "evalue": "'b'",
     "output_type": "error",
     "traceback": [
      "\u001b[1;31m---------------------------------------------------------------------------\u001b[0m",
      "\u001b[1;31mKeyError\u001b[0m                                  Traceback (most recent call last)",
      "\u001b[1;32m<ipython-input-79-44b218efe1d5>\u001b[0m in \u001b[0;36m<module>\u001b[1;34m()\u001b[0m\n\u001b[1;32m----> 1\u001b[1;33m \u001b[0ma\u001b[0m\u001b[1;33m[\u001b[0m\u001b[1;34m'b'\u001b[0m\u001b[1;33m]\u001b[0m\u001b[1;33m\u001b[0m\u001b[0m\n\u001b[0m",
      "\u001b[1;31mKeyError\u001b[0m: 'b'"
     ]
    }
   ],
   "source": [
    "import pandas as pd\n",
    "import numpy as np\n",
    "import re\n",
    "import nltk\n",
    "import string\n",
    "\n"
   ]
  }
 ],
 "metadata": {
  "kernelspec": {
   "display_name": "Python 3",
   "language": "python",
   "name": "python3"
  },
  "language_info": {
   "codemirror_mode": {
    "name": "ipython",
    "version": 3
   },
   "file_extension": ".py",
   "mimetype": "text/x-python",
   "name": "python",
   "nbconvert_exporter": "python",
   "pygments_lexer": "ipython3",
   "version": "3.6.4"
  }
 },
 "nbformat": 4,
 "nbformat_minor": 2
}
